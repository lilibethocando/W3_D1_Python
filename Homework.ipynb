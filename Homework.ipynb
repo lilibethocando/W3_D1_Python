{
 "cells": [
  {
   "cell_type": "markdown",
   "id": "a7a7bd0e",
   "metadata": {},
   "source": [
    "# Exercises"
   ]
  },
  {
   "cell_type": "markdown",
   "id": "a330e22e",
   "metadata": {},
   "source": [
    "Exercise 1 - Write a Python class for an Animal that has a name and energy attributes. The animal class should also have methods for eat, sleep, and play that will take in an integer and increase/decrease the energy of the animal with a formatted print statement"
   ]
  },
  {
   "cell_type": "code",
   "execution_count": 1,
   "id": "24dc7cf7",
   "metadata": {},
   "outputs": [],
   "source": [
    "# Example 1\n",
    "# buddy = Animal('Buddy', 10)\n",
    "# buddy.play(5) -> \"Buddy is playing for 5 minutes. His energy is now 5\"\n",
    "# buddy.sleep(10) -> \"Buddy is sleeping for 10 minutes. His energy is now 15\""
   ]
  },
  {
   "cell_type": "code",
   "execution_count": 3,
   "id": "9fbc09fa",
   "metadata": {},
   "outputs": [],
   "source": [
    "class Animal:\n",
    "    def __init__(self, name, energy):\n",
    "        self.name = name\n",
    "        self.energy = energy\n",
    "    \n",
    "    def eat(self, num):\n",
    "        self.energy += num\n",
    "        print(f\"{self.name} is eating {num} calories, now the energy level is: {self.energy}\")\n",
    "    \n",
    "    def sleep(self, num):\n",
    "        self.energy += num\n",
    "        print(f\"{self.name} is sleeping for {num} min, now the energy level is: {self.energy}\")\n",
    "    \n",
    "    def play(self, num):\n",
    "        self.energy -= num\n",
    "        print(f\"{self.name} is playing for {num} min, now the energy level is: {self.energy}\")"
   ]
  },
  {
   "cell_type": "code",
   "execution_count": 4,
   "id": "00048004",
   "metadata": {},
   "outputs": [
    {
     "name": "stdout",
     "output_type": "stream",
     "text": [
      "Max is eating 10 calories, now the energy level is: 30\n",
      "Max is sleeping for 5 min, now the energy level is: 35\n",
      "Max is playing for 15 min, now the energy level is: 20\n"
     ]
    }
   ],
   "source": [
    "my_dog = Animal('Max', 20)\n",
    "my_dog.eat(10)\n",
    "my_dog.sleep(5)\n",
    "my_dog.play(15)"
   ]
  },
  {
   "cell_type": "markdown",
   "id": "e2eb6478",
   "metadata": {},
   "source": [
    "Exercise 2 - Turn the shopping cart program into an object-oriented program"
   ]
  },
  {
   "cell_type": "code",
   "execution_count": 2,
   "id": "e9c10e41",
   "metadata": {},
   "outputs": [],
   "source": [
    "# Create a class called cart that retains items and has methods to add, remove, and show"
   ]
  },
  {
   "cell_type": "code",
   "execution_count": null,
   "id": "ba4a48a9",
   "metadata": {},
   "outputs": [
    {
     "name": "stdout",
     "output_type": "stream",
     "text": [
      "----------------------------------------------------------------------------------------------------\n",
      "Welcome to Lilly's store, we hope you find what you are looking for!\n",
      "----------------------------------------------------------------------------------------------------\n",
      "Select one of the following options: Add, Remove, Show, or Exit:\n",
      "show\n",
      "********************\n",
      "Your cart is empty!\n",
      "********************\n"
     ]
    }
   ],
   "source": [
    "from datetime import datetime\n",
    "date = datetime.now()\n",
    "\n",
    "class Cart:\n",
    "    def __init__(self):\n",
    "        self.products = {}\n",
    "        self.date = date.strftime('%m/%d/%Y')\n",
    "        self.time = date.strftime('%I:%M %p')\n",
    "    \n",
    "    \n",
    "    def add(self, name, quantity, price):\n",
    "        if name not in self.products:\n",
    "            self.products[name] = {'quantity': quantity, 'price': price}\n",
    "        else:\n",
    "            self.products[name]['quantity'] += quantity\n",
    "        return self.products\n",
    "    \n",
    "    \n",
    "    def remove(self, name):\n",
    "        if name not in self.products:\n",
    "            print(f\"The product: {name} is not in the shopping cart, please validate the name\")\n",
    "        else:\n",
    "            del self.products[name]\n",
    "            print(f\"The product: {name} has been removed and your shopping cart has been updated\")\n",
    "        \n",
    "    \n",
    "    def show(self):\n",
    "        total_amount = 0\n",
    "        if not self.products:\n",
    "            print(\"*\"*20)\n",
    "            print(\"Your cart is empty!\")\n",
    "            print(\"*\"*20)\n",
    "        else:\n",
    "            for item,value in self.products.items():\n",
    "                print(\".\"*80)\n",
    "                print(f\"Product: {item.capitalize()} | Quantity: {value['quantity']} | Unit Price: ${value['price']} | Total Price: ${value['price']*value['quantity']:.2f}\")\n",
    "                print(\".\"*80)\n",
    "                total_amount += (value['price']*value['quantity'])\n",
    "            print(f\"The total amount in your cart is: ${total_amount:.2f}\")\n",
    "            \n",
    "            \n",
    "            \n",
    "def main():\n",
    "    print(\"-\"*100)\n",
    "    print(\"Welcome to Lilly's store, we hope you find what you are looking for!\")\n",
    "    print(\"-\"*100)\n",
    "    product = Cart()\n",
    "    while True:\n",
    "        menu = input(\"Select one of the following options: Add, Remove, Show, or Exit:\\n\").lower()\n",
    "        if menu == 'add':\n",
    "            product.name = input(\"Type name of the item:\\n\").lower()\n",
    "            product.quantity = int(input(\"How many items?\\n\"))\n",
    "            product.price = float(input(\"Enter the price:\\n$\"))\n",
    "            product.add(product.name, product.quantity, product.price)\n",
    "        elif menu == 'remove':\n",
    "            product.name = input(\"Type name of the item:\\n\").lower()\n",
    "            remove = product.remove(product.name)\n",
    "        elif menu == 'show':\n",
    "            show_cart = product.show()\n",
    "        elif menu == 'exit':\n",
    "            print(\"\\t\\t\\t\\tLILLY'S STORE\")\n",
    "            print(\"=\"*80)\n",
    "            print(f\"Thank you for shopping at Lilly's store on {product.date}, {product.time}\")\n",
    "            print(\"Find the details of your purchase below\")\n",
    "            receipt = product.show()\n",
    "            print(\"Thank you for shopping with us!\")\n",
    "            print(\"=\"*80)\n",
    "            break\n",
    "        else:\n",
    "            print(\"Invalid choice!\")\n",
    "\n",
    "\n",
    "if __name__ == \"__main__\":\n",
    "    main()"
   ]
  },
  {
   "cell_type": "code",
   "execution_count": null,
   "id": "a1916b8e",
   "metadata": {},
   "outputs": [],
   "source": []
  }
 ],
 "metadata": {
  "kernelspec": {
   "display_name": "Python 3 (ipykernel)",
   "language": "python",
   "name": "python3"
  },
  "language_info": {
   "codemirror_mode": {
    "name": "ipython",
    "version": 3
   },
   "file_extension": ".py",
   "mimetype": "text/x-python",
   "name": "python",
   "nbconvert_exporter": "python",
   "pygments_lexer": "ipython3",
   "version": "3.11.5"
  }
 },
 "nbformat": 4,
 "nbformat_minor": 5
}
